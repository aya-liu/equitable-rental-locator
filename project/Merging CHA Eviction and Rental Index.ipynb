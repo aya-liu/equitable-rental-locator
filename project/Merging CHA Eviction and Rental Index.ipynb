{
 "cells": [
  {
   "cell_type": "code",
   "execution_count": 1,
   "metadata": {},
   "outputs": [],
   "source": [
    "import pickle\n",
    "import pandas as pd\n",
    "import geopandas\n",
    "from shapely.geometry import Point\n",
    "import matplotlib.pyplot as plt"
   ]
  },
  {
   "cell_type": "markdown",
   "metadata": {},
   "source": [
    "# Below is our project"
   ]
  },
  {
   "cell_type": "code",
   "execution_count": 2,
   "metadata": {},
   "outputs": [],
   "source": [
    "# read scraped CHA data\n",
    "with open(\"data/CHA_rental_data.obj\", \"rb\") as f:       \n",
    "    d = pickle.load(f)\n",
    "cha = pd.DataFrame.from_dict(data = d, orient = \"index\")"
   ]
  },
  {
   "cell_type": "code",
   "execution_count": 3,
   "metadata": {},
   "outputs": [],
   "source": [
    "# clean CHA data\n",
    "cols = ['Address','Monthly Rent','Property Type','Bath','Bed',\n",
    "        'Voucher Necessary','Availability','Contact','URL','Lat','Long']\n",
    "cha = cha[cols]\n",
    "cha.Long = -1 * cha.Long\n",
    "\n",
    "# correct error\n",
    "cha.loc[\"4545145\", \"Long\"] = -87.66593 \n",
    "cha.loc[\"4545145\", \"Lat\"] = 41.772175"
   ]
  },
  {
   "cell_type": "code",
   "execution_count": 4,
   "metadata": {
    "scrolled": true
   },
   "outputs": [
    {
     "data": {
      "text/html": [
       "<div>\n",
       "<style scoped>\n",
       "    .dataframe tbody tr th:only-of-type {\n",
       "        vertical-align: middle;\n",
       "    }\n",
       "\n",
       "    .dataframe tbody tr th {\n",
       "        vertical-align: top;\n",
       "    }\n",
       "\n",
       "    .dataframe thead th {\n",
       "        text-align: right;\n",
       "    }\n",
       "</style>\n",
       "<table border=\"1\" class=\"dataframe\">\n",
       "  <thead>\n",
       "    <tr style=\"text-align: right;\">\n",
       "      <th></th>\n",
       "      <th>Address</th>\n",
       "      <th>Monthly Rent</th>\n",
       "      <th>Property Type</th>\n",
       "      <th>Bath</th>\n",
       "      <th>Bed</th>\n",
       "      <th>Voucher Necessary</th>\n",
       "      <th>Availability</th>\n",
       "      <th>Contact</th>\n",
       "      <th>URL</th>\n",
       "      <th>Lat</th>\n",
       "      <th>Long</th>\n",
       "    </tr>\n",
       "  </thead>\n",
       "  <tbody>\n",
       "    <tr>\n",
       "      <th>1288108</th>\n",
       "      <td>1718 W 66th St 1, Chicago, IL 60636</td>\n",
       "      <td>800</td>\n",
       "      <td>Apt</td>\n",
       "      <td>1.0</td>\n",
       "      <td>2.0</td>\n",
       "      <td>Yes</td>\n",
       "      <td>Check Availability</td>\n",
       "      <td>None</td>\n",
       "      <td>http://chicagoha.gosection8.com/Section-8-hous...</td>\n",
       "      <td>41.774000</td>\n",
       "      <td>-87.667300</td>\n",
       "    </tr>\n",
       "    <tr>\n",
       "      <th>4012748</th>\n",
       "      <td>6130 S Eberhart Ave 1, Chicago, IL 60637</td>\n",
       "      <td>1200</td>\n",
       "      <td>Apt</td>\n",
       "      <td>2.0</td>\n",
       "      <td>3.0</td>\n",
       "      <td>Yes</td>\n",
       "      <td>Available Now</td>\n",
       "      <td>(773) 961-4367</td>\n",
       "      <td>http://chicagoha.gosection8.com/Section-8-hous...</td>\n",
       "      <td>41.783000</td>\n",
       "      <td>-87.613600</td>\n",
       "    </tr>\n",
       "    <tr>\n",
       "      <th>4017021</th>\n",
       "      <td>4827 S Seeley Ave , Chicago, IL 60609</td>\n",
       "      <td>600</td>\n",
       "      <td>Apt</td>\n",
       "      <td>1.0</td>\n",
       "      <td>1.0</td>\n",
       "      <td>Yes</td>\n",
       "      <td>Check Availability</td>\n",
       "      <td>None</td>\n",
       "      <td>http://chicagoha.gosection8.com/Section-8-hous...</td>\n",
       "      <td>41.805800</td>\n",
       "      <td>-87.675600</td>\n",
       "    </tr>\n",
       "    <tr>\n",
       "      <th>4036551</th>\n",
       "      <td>828 E 88th Pl 2, Chicago, IL 60619</td>\n",
       "      <td>875</td>\n",
       "      <td>Apt</td>\n",
       "      <td>1.0</td>\n",
       "      <td>3.0</td>\n",
       "      <td>Yes</td>\n",
       "      <td>Check Availability</td>\n",
       "      <td>None</td>\n",
       "      <td>http://chicagoha.gosection8.com/Section-8-hous...</td>\n",
       "      <td>41.734190</td>\n",
       "      <td>-87.603472</td>\n",
       "    </tr>\n",
       "    <tr>\n",
       "      <th>4036578</th>\n",
       "      <td>4620 S Evans Ave 1, Chicago, IL 60653</td>\n",
       "      <td>1150</td>\n",
       "      <td>Apt</td>\n",
       "      <td>1.0</td>\n",
       "      <td>3.0</td>\n",
       "      <td>Yes</td>\n",
       "      <td>Check Availability</td>\n",
       "      <td>None</td>\n",
       "      <td>http://chicagoha.gosection8.com/Section-8-hous...</td>\n",
       "      <td>41.810646</td>\n",
       "      <td>-87.608165</td>\n",
       "    </tr>\n",
       "  </tbody>\n",
       "</table>\n",
       "</div>"
      ],
      "text/plain": [
       "                                          Address  Monthly Rent Property Type  \\\n",
       "1288108       1718 W 66th St 1, Chicago, IL 60636           800           Apt   \n",
       "4012748  6130 S Eberhart Ave 1, Chicago, IL 60637          1200           Apt   \n",
       "4017021     4827 S Seeley Ave , Chicago, IL 60609           600           Apt   \n",
       "4036551        828 E 88th Pl 2, Chicago, IL 60619           875           Apt   \n",
       "4036578     4620 S Evans Ave 1, Chicago, IL 60653          1150           Apt   \n",
       "\n",
       "         Bath  Bed Voucher Necessary        Availability         Contact  \\\n",
       "1288108   1.0  2.0               Yes  Check Availability            None   \n",
       "4012748   2.0  3.0               Yes       Available Now  (773) 961-4367   \n",
       "4017021   1.0  1.0               Yes  Check Availability            None   \n",
       "4036551   1.0  3.0               Yes  Check Availability            None   \n",
       "4036578   1.0  3.0               Yes  Check Availability            None   \n",
       "\n",
       "                                                       URL        Lat  \\\n",
       "1288108  http://chicagoha.gosection8.com/Section-8-hous...  41.774000   \n",
       "4012748  http://chicagoha.gosection8.com/Section-8-hous...  41.783000   \n",
       "4017021  http://chicagoha.gosection8.com/Section-8-hous...  41.805800   \n",
       "4036551  http://chicagoha.gosection8.com/Section-8-hous...  41.734190   \n",
       "4036578  http://chicagoha.gosection8.com/Section-8-hous...  41.810646   \n",
       "\n",
       "              Long  \n",
       "1288108 -87.667300  \n",
       "4012748 -87.613600  \n",
       "4017021 -87.675600  \n",
       "4036551 -87.603472  \n",
       "4036578 -87.608165  "
      ]
     },
     "execution_count": 4,
     "metadata": {},
     "output_type": "execute_result"
    }
   ],
   "source": [
    "cha.head()"
   ]
  },
  {
   "cell_type": "code",
   "execution_count": 5,
   "metadata": {},
   "outputs": [
    {
     "data": {
      "text/plain": [
       "Address               object\n",
       "Monthly Rent           int64\n",
       "Property Type         object\n",
       "Bath                 float64\n",
       "Bed                  float64\n",
       "Voucher Necessary     object\n",
       "Availability          object\n",
       "Contact               object\n",
       "URL                   object\n",
       "Lat                  float64\n",
       "Long                 float64\n",
       "dtype: object"
      ]
     },
     "execution_count": 5,
     "metadata": {},
     "output_type": "execute_result"
    }
   ],
   "source": [
    "cha.dtypes"
   ]
  },
  {
   "cell_type": "code",
   "execution_count": 6,
   "metadata": {},
   "outputs": [],
   "source": [
    "# convert to GeoDataFrame\n",
    "cha['Coordinates'] = list(zip(cha.Long, cha.Lat))"
   ]
  },
  {
   "cell_type": "code",
   "execution_count": 7,
   "metadata": {},
   "outputs": [],
   "source": [
    "cha['Coordinates'] = cha['Coordinates'].apply(Point)"
   ]
  },
  {
   "cell_type": "code",
   "execution_count": 8,
   "metadata": {},
   "outputs": [],
   "source": [
    "gcha = geopandas.GeoDataFrame(cha, geometry='Coordinates')"
   ]
  },
  {
   "cell_type": "code",
   "execution_count": 9,
   "metadata": {},
   "outputs": [
    {
     "data": {
      "text/html": [
       "<div>\n",
       "<style scoped>\n",
       "    .dataframe tbody tr th:only-of-type {\n",
       "        vertical-align: middle;\n",
       "    }\n",
       "\n",
       "    .dataframe tbody tr th {\n",
       "        vertical-align: top;\n",
       "    }\n",
       "\n",
       "    .dataframe thead th {\n",
       "        text-align: right;\n",
       "    }\n",
       "</style>\n",
       "<table border=\"1\" class=\"dataframe\">\n",
       "  <thead>\n",
       "    <tr style=\"text-align: right;\">\n",
       "      <th></th>\n",
       "      <th>Address</th>\n",
       "      <th>Monthly Rent</th>\n",
       "      <th>Property Type</th>\n",
       "      <th>Bath</th>\n",
       "      <th>Bed</th>\n",
       "      <th>Voucher Necessary</th>\n",
       "      <th>Availability</th>\n",
       "      <th>Contact</th>\n",
       "      <th>URL</th>\n",
       "      <th>Lat</th>\n",
       "      <th>Long</th>\n",
       "      <th>Coordinates</th>\n",
       "    </tr>\n",
       "  </thead>\n",
       "  <tbody>\n",
       "    <tr>\n",
       "      <th>4302747</th>\n",
       "      <td>218 E 79th St 2, Chicago, IL 60619</td>\n",
       "      <td>1300</td>\n",
       "      <td>Apt</td>\n",
       "      <td>1.5</td>\n",
       "      <td>4.0</td>\n",
       "      <td>Yes</td>\n",
       "      <td>Check Availability</td>\n",
       "      <td>None</td>\n",
       "      <td>http://chicagoha.gosection8.com/Section-8-hous...</td>\n",
       "      <td>41.751146</td>\n",
       "      <td>-87.618888</td>\n",
       "      <td>POINT (-87.6188885 41.751146)</td>\n",
       "    </tr>\n",
       "  </tbody>\n",
       "</table>\n",
       "</div>"
      ],
      "text/plain": [
       "                                    Address  Monthly Rent Property Type  Bath  \\\n",
       "4302747  218 E 79th St 2, Chicago, IL 60619          1300           Apt   1.5   \n",
       "\n",
       "         Bed Voucher Necessary        Availability Contact  \\\n",
       "4302747  4.0               Yes  Check Availability    None   \n",
       "\n",
       "                                                       URL        Lat  \\\n",
       "4302747  http://chicagoha.gosection8.com/Section-8-hous...  41.751146   \n",
       "\n",
       "              Long                    Coordinates  \n",
       "4302747 -87.618888  POINT (-87.6188885 41.751146)  "
      ]
     },
     "execution_count": 9,
     "metadata": {},
     "output_type": "execute_result"
    }
   ],
   "source": [
    "gcha[203:204]"
   ]
  },
  {
   "cell_type": "code",
   "execution_count": 11,
   "metadata": {},
   "outputs": [],
   "source": [
    "# read block group geojson\n",
    "blocks_full = geopandas.read_file(\"data/block-groups.geojson\")"
   ]
  },
  {
   "cell_type": "code",
   "execution_count": 12,
   "metadata": {},
   "outputs": [],
   "source": [
    "blocks = blocks_full[['geometry', 'GEOID']]"
   ]
  },
  {
   "cell_type": "code",
   "execution_count": 13,
   "metadata": {},
   "outputs": [
    {
     "data": {
      "text/html": [
       "<div>\n",
       "<style scoped>\n",
       "    .dataframe tbody tr th:only-of-type {\n",
       "        vertical-align: middle;\n",
       "    }\n",
       "\n",
       "    .dataframe tbody tr th {\n",
       "        vertical-align: top;\n",
       "    }\n",
       "\n",
       "    .dataframe thead th {\n",
       "        text-align: right;\n",
       "    }\n",
       "</style>\n",
       "<table border=\"1\" class=\"dataframe\">\n",
       "  <thead>\n",
       "    <tr style=\"text-align: right;\">\n",
       "      <th></th>\n",
       "      <th>geometry</th>\n",
       "      <th>GEOID</th>\n",
       "    </tr>\n",
       "  </thead>\n",
       "  <tbody>\n",
       "    <tr>\n",
       "      <th>0</th>\n",
       "      <td>(POLYGON ((-87.655192 41.983802, -87.655914999...</td>\n",
       "      <td>170310306041</td>\n",
       "    </tr>\n",
       "    <tr>\n",
       "      <th>1</th>\n",
       "      <td>(POLYGON ((-87.65111443516709 41.9840326124377...</td>\n",
       "      <td>170310306042</td>\n",
       "    </tr>\n",
       "    <tr>\n",
       "      <th>2</th>\n",
       "      <td>(POLYGON ((-87.656031 41.987344, -87.655303 41...</td>\n",
       "      <td>170310306043</td>\n",
       "    </tr>\n",
       "    <tr>\n",
       "      <th>3</th>\n",
       "      <td>(POLYGON ((-87.66006899999999 41.983622, -87.6...</td>\n",
       "      <td>170310307011</td>\n",
       "    </tr>\n",
       "    <tr>\n",
       "      <th>4</th>\n",
       "      <td>(POLYGON ((-87.65454699999999 41.980646, -87.6...</td>\n",
       "      <td>170310307021</td>\n",
       "    </tr>\n",
       "  </tbody>\n",
       "</table>\n",
       "</div>"
      ],
      "text/plain": [
       "                                            geometry         GEOID\n",
       "0  (POLYGON ((-87.655192 41.983802, -87.655914999...  170310306041\n",
       "1  (POLYGON ((-87.65111443516709 41.9840326124377...  170310306042\n",
       "2  (POLYGON ((-87.656031 41.987344, -87.655303 41...  170310306043\n",
       "3  (POLYGON ((-87.66006899999999 41.983622, -87.6...  170310307011\n",
       "4  (POLYGON ((-87.65454699999999 41.980646, -87.6...  170310307021"
      ]
     },
     "execution_count": 13,
     "metadata": {},
     "output_type": "execute_result"
    }
   ],
   "source": [
    "blocks.head()"
   ]
  },
  {
   "cell_type": "code",
   "execution_count": 14,
   "metadata": {
    "scrolled": true
   },
   "outputs": [
    {
     "name": "stderr",
     "output_type": "stream",
     "text": [
      "/usr/local/anaconda3/lib/python3.7/site-packages/geopandas/tools/sjoin.py:44: UserWarning: CRS of frames being joined does not match!\n",
      "  warn('CRS of frames being joined does not match!')\n"
     ]
    }
   ],
   "source": [
    "cha_with_geoid = geopandas.sjoin(gcha, blocks, how=\"left\", op='intersects')"
   ]
  },
  {
   "cell_type": "code",
   "execution_count": 16,
   "metadata": {},
   "outputs": [
    {
     "data": {
      "text/html": [
       "<div>\n",
       "<style scoped>\n",
       "    .dataframe tbody tr th:only-of-type {\n",
       "        vertical-align: middle;\n",
       "    }\n",
       "\n",
       "    .dataframe tbody tr th {\n",
       "        vertical-align: top;\n",
       "    }\n",
       "\n",
       "    .dataframe thead th {\n",
       "        text-align: right;\n",
       "    }\n",
       "</style>\n",
       "<table border=\"1\" class=\"dataframe\">\n",
       "  <thead>\n",
       "    <tr style=\"text-align: right;\">\n",
       "      <th></th>\n",
       "      <th>Address</th>\n",
       "      <th>Monthly Rent</th>\n",
       "      <th>Property Type</th>\n",
       "      <th>Bath</th>\n",
       "      <th>Bed</th>\n",
       "      <th>Voucher Necessary</th>\n",
       "      <th>Availability</th>\n",
       "      <th>Contact</th>\n",
       "      <th>URL</th>\n",
       "      <th>Lat</th>\n",
       "      <th>Long</th>\n",
       "      <th>Coordinates</th>\n",
       "      <th>index_right</th>\n",
       "      <th>GEOID</th>\n",
       "    </tr>\n",
       "  </thead>\n",
       "  <tbody>\n",
       "    <tr>\n",
       "      <th>1288108</th>\n",
       "      <td>1718 W 66th St 1, Chicago, IL 60636</td>\n",
       "      <td>800</td>\n",
       "      <td>Apt</td>\n",
       "      <td>1.0</td>\n",
       "      <td>2.0</td>\n",
       "      <td>Yes</td>\n",
       "      <td>Check Availability</td>\n",
       "      <td>None</td>\n",
       "      <td>http://chicagoha.gosection8.com/Section-8-hous...</td>\n",
       "      <td>41.774000</td>\n",
       "      <td>-87.667300</td>\n",
       "      <td>POINT (-87.6673 41.774)</td>\n",
       "      <td>3028</td>\n",
       "      <td>170316712002</td>\n",
       "    </tr>\n",
       "    <tr>\n",
       "      <th>4012748</th>\n",
       "      <td>6130 S Eberhart Ave 1, Chicago, IL 60637</td>\n",
       "      <td>1200</td>\n",
       "      <td>Apt</td>\n",
       "      <td>2.0</td>\n",
       "      <td>3.0</td>\n",
       "      <td>Yes</td>\n",
       "      <td>Available Now</td>\n",
       "      <td>(773) 961-4367</td>\n",
       "      <td>http://chicagoha.gosection8.com/Section-8-hous...</td>\n",
       "      <td>41.783000</td>\n",
       "      <td>-87.613600</td>\n",
       "      <td>POINT (-87.61360000000001 41.783)</td>\n",
       "      <td>3375</td>\n",
       "      <td>170314206001</td>\n",
       "    </tr>\n",
       "    <tr>\n",
       "      <th>4017021</th>\n",
       "      <td>4827 S Seeley Ave , Chicago, IL 60609</td>\n",
       "      <td>600</td>\n",
       "      <td>Apt</td>\n",
       "      <td>1.0</td>\n",
       "      <td>1.0</td>\n",
       "      <td>Yes</td>\n",
       "      <td>Check Availability</td>\n",
       "      <td>None</td>\n",
       "      <td>http://chicagoha.gosection8.com/Section-8-hous...</td>\n",
       "      <td>41.805800</td>\n",
       "      <td>-87.675600</td>\n",
       "      <td>POINT (-87.6756 41.8058)</td>\n",
       "      <td>557</td>\n",
       "      <td>170316115001</td>\n",
       "    </tr>\n",
       "    <tr>\n",
       "      <th>4036551</th>\n",
       "      <td>828 E 88th Pl 2, Chicago, IL 60619</td>\n",
       "      <td>875</td>\n",
       "      <td>Apt</td>\n",
       "      <td>1.0</td>\n",
       "      <td>3.0</td>\n",
       "      <td>Yes</td>\n",
       "      <td>Check Availability</td>\n",
       "      <td>None</td>\n",
       "      <td>http://chicagoha.gosection8.com/Section-8-hous...</td>\n",
       "      <td>41.734190</td>\n",
       "      <td>-87.603472</td>\n",
       "      <td>POINT (-87.603472 41.73419)</td>\n",
       "      <td>2756</td>\n",
       "      <td>170314408001</td>\n",
       "    </tr>\n",
       "    <tr>\n",
       "      <th>4036578</th>\n",
       "      <td>4620 S Evans Ave 1, Chicago, IL 60653</td>\n",
       "      <td>1150</td>\n",
       "      <td>Apt</td>\n",
       "      <td>1.0</td>\n",
       "      <td>3.0</td>\n",
       "      <td>Yes</td>\n",
       "      <td>Check Availability</td>\n",
       "      <td>None</td>\n",
       "      <td>http://chicagoha.gosection8.com/Section-8-hous...</td>\n",
       "      <td>41.810646</td>\n",
       "      <td>-87.608165</td>\n",
       "      <td>POINT (-87.608165 41.810646)</td>\n",
       "      <td>1178</td>\n",
       "      <td>170318436002</td>\n",
       "    </tr>\n",
       "  </tbody>\n",
       "</table>\n",
       "</div>"
      ],
      "text/plain": [
       "                                          Address  Monthly Rent Property Type  \\\n",
       "1288108       1718 W 66th St 1, Chicago, IL 60636           800           Apt   \n",
       "4012748  6130 S Eberhart Ave 1, Chicago, IL 60637          1200           Apt   \n",
       "4017021     4827 S Seeley Ave , Chicago, IL 60609           600           Apt   \n",
       "4036551        828 E 88th Pl 2, Chicago, IL 60619           875           Apt   \n",
       "4036578     4620 S Evans Ave 1, Chicago, IL 60653          1150           Apt   \n",
       "\n",
       "         Bath  Bed Voucher Necessary        Availability         Contact  \\\n",
       "1288108   1.0  2.0               Yes  Check Availability            None   \n",
       "4012748   2.0  3.0               Yes       Available Now  (773) 961-4367   \n",
       "4017021   1.0  1.0               Yes  Check Availability            None   \n",
       "4036551   1.0  3.0               Yes  Check Availability            None   \n",
       "4036578   1.0  3.0               Yes  Check Availability            None   \n",
       "\n",
       "                                                       URL        Lat  \\\n",
       "1288108  http://chicagoha.gosection8.com/Section-8-hous...  41.774000   \n",
       "4012748  http://chicagoha.gosection8.com/Section-8-hous...  41.783000   \n",
       "4017021  http://chicagoha.gosection8.com/Section-8-hous...  41.805800   \n",
       "4036551  http://chicagoha.gosection8.com/Section-8-hous...  41.734190   \n",
       "4036578  http://chicagoha.gosection8.com/Section-8-hous...  41.810646   \n",
       "\n",
       "              Long                        Coordinates  index_right  \\\n",
       "1288108 -87.667300            POINT (-87.6673 41.774)         3028   \n",
       "4012748 -87.613600  POINT (-87.61360000000001 41.783)         3375   \n",
       "4017021 -87.675600           POINT (-87.6756 41.8058)          557   \n",
       "4036551 -87.603472        POINT (-87.603472 41.73419)         2756   \n",
       "4036578 -87.608165       POINT (-87.608165 41.810646)         1178   \n",
       "\n",
       "                GEOID  \n",
       "1288108  170316712002  \n",
       "4012748  170314206001  \n",
       "4017021  170316115001  \n",
       "4036551  170314408001  \n",
       "4036578  170318436002  "
      ]
     },
     "execution_count": 16,
     "metadata": {},
     "output_type": "execute_result"
    }
   ],
   "source": [
    "cha_with_geoid.head()"
   ]
  },
  {
   "cell_type": "code",
   "execution_count": 18,
   "metadata": {},
   "outputs": [],
   "source": [
    "index_to_geoid = cha_with_geoid[\"GEOID\"]"
   ]
  },
  {
   "cell_type": "code",
   "execution_count": 20,
   "metadata": {},
   "outputs": [
    {
     "data": {
      "text/plain": [
       "1288108    170316712002\n",
       "4012748    170314206001\n",
       "4017021    170316115001\n",
       "4036551    170314408001\n",
       "4036578    170318436002\n",
       "Name: GEOID, dtype: object"
      ]
     },
     "execution_count": 20,
     "metadata": {},
     "output_type": "execute_result"
    }
   ],
   "source": [
    "index_to_geoid.head()"
   ]
  }
 ],
 "metadata": {
  "kernelspec": {
   "display_name": "Python 3",
   "language": "python",
   "name": "python3"
  },
  "language_info": {
   "codemirror_mode": {
    "name": "ipython",
    "version": 3
   },
   "file_extension": ".py",
   "mimetype": "text/x-python",
   "name": "python",
   "nbconvert_exporter": "python",
   "pygments_lexer": "ipython3",
   "version": "3.7.1"
  }
 },
 "nbformat": 4,
 "nbformat_minor": 2
}
