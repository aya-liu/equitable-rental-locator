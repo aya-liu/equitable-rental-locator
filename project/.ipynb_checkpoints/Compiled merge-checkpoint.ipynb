{
 "cells": [
  {
   "cell_type": "code",
   "execution_count": null,
   "metadata": {
    "scrolled": true
   },
   "outputs": [],
   "source": [
    "%load_ext autoreload\n",
    "%autoreload 2\n",
    "\n",
    "import pandas as pd\n",
    "pd.options.display.max_rows = 999"
   ]
  },
  {
   "cell_type": "code",
   "execution_count": null,
   "metadata": {},
   "outputs": [],
   "source": [
    "from process_cha_data import process_cha_data\n",
    "import clean_rent_eviction as clean\n",
    "import transit_score as ts"
   ]
  },
  {
   "cell_type": "code",
   "execution_count": null,
   "metadata": {},
   "outputs": [],
   "source": [
    "# data sources filenames\n",
    "CHA_DICT_RAW = \"data/CHA_rental_data.obj\"\n",
    "BLOCKS_GEOFILE = \"data/block-groups.geojson\"\n",
    "ZILLOW_GEOFILE = \"data/ZillowNeighborhoods-IL.shp\"\n",
    "ZILLOW_FILE = \"data/Neighborhood_Zri_AllHomesPlusMultifamily.csv\"\n",
    "EVICTIONS_FILE = \"data/block-groups.csv\"\n",
    "\n",
    "# processed data filenames\n",
    "CHA_CLEAN = \"processed_data/CHA_clean.csv\"\n",
    "CHA_WITH_MKEYS = \"processed_data/CHA_with_merge_keys.csv\"\n",
    "ZILLOW_WITH_INC = \"processed_data/zillow_rindex_with_increase.csv\""
   ]
  },
  {
   "cell_type": "code",
   "execution_count": null,
   "metadata": {},
   "outputs": [],
   "source": [
    "cha_geoid_zillow = process_cha_data(CHA_DICT_RAW, BLOCKS_GEOFILE, ZILLOW_GEOFILE)"
   ]
  },
  {
   "cell_type": "code",
   "execution_count": null,
   "metadata": {},
   "outputs": [],
   "source": [
    "evict = clean.read_and_process_evictions(EVICTIONS_FILE)\n",
    "evict_to_merge = evict[evict.year == \"2016\"]\n",
    "evict_to_merge = evict_to_merge[[\"GEOID\", \"year\", \"eviction-rate\", \"eviction-filing-rate\"]].copy()"
   ]
  },
  {
   "cell_type": "code",
   "execution_count": null,
   "metadata": {},
   "outputs": [],
   "source": [
    "evict_to_merge.head()"
   ]
  },
  {
   "cell_type": "code",
   "execution_count": null,
   "metadata": {},
   "outputs": [],
   "source": [
    "merged_with_ev = pd.merge(cha_geoid_zillow.reset_index(), evict_to_merge, on=\"GEOID\", how=\"left\")"
   ]
  },
  {
   "cell_type": "code",
   "execution_count": null,
   "metadata": {},
   "outputs": [],
   "source": [
    "merged_with_ev"
   ]
  },
  {
   "cell_type": "code",
   "execution_count": null,
   "metadata": {},
   "outputs": [],
   "source": [
    "rindex = clean.read_and_process_rindex(ZILLOW_FILE)\n",
    "rindex.head()"
   ]
  },
  {
   "cell_type": "code",
   "execution_count": null,
   "metadata": {},
   "outputs": [],
   "source": [
    "rindex_to_merge = rindex[[\"RegionID\",\"2011-2015\", \"2015-2019\"]]"
   ]
  },
  {
   "cell_type": "code",
   "execution_count": null,
   "metadata": {},
   "outputs": [],
   "source": [
    "rindex_to_merge.head()"
   ]
  },
  {
   "cell_type": "code",
   "execution_count": null,
   "metadata": {},
   "outputs": [],
   "source": [
    "merged = pd.merge(merged_with_ev, rindex_to_merge, on=\"RegionID\", how=\"left\")"
   ]
  },
  {
   "cell_type": "code",
   "execution_count": null,
   "metadata": {},
   "outputs": [],
   "source": [
    "merged"
   ]
  }
 ],
 "metadata": {
  "kernelspec": {
   "display_name": "project122",
   "language": "python",
   "name": "project122"
  },
  "language_info": {
   "codemirror_mode": {
    "name": "ipython",
    "version": 3
   },
   "file_extension": ".py",
   "mimetype": "text/x-python",
   "name": "python",
   "nbconvert_exporter": "python",
   "pygments_lexer": "ipython3",
   "version": "3.7.1"
  }
 },
 "nbformat": 4,
 "nbformat_minor": 2
}
